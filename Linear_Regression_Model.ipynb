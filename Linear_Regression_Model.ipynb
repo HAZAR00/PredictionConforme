{
  "cells": [
    {
      "cell_type": "code",
      "execution_count": null,
      "metadata": {
        "id": "7z0JX-dJ5e1D"
      },
      "source": [
        "def f():\n",
        "  print(\"hi\")\n",
        "  return 'cbon'"
      ],
      "outputs": [],
      "id": "7z0JX-dJ5e1D"
    },
    {
      "cell_type": "code",
      "source": [
        "%cd PredictionConforme/"
      ],
      "metadata": {
        "id": "X1RgDdgL6Il6",
        "outputId": "403d0be5-df87-4ef5-96d0-362d0140f66b",
        "colab": {
          "base_uri": "https://localhost:8080/"
        }
      },
      "id": "X1RgDdgL6Il6",
      "execution_count": 10,
      "outputs": [
        {
          "output_type": "stream",
          "name": "stdout",
          "text": [
            "/content/PredictionConforme\n"
          ]
        }
      ]
    },
    {
      "cell_type": "code",
      "source": [
        "!git config --global user.email \"medmegdiche01@gmail.com\"\n",
        "!git config --global user.name \"mmegdiche\"\n",
        "!git commit -m \"update mmegdiche\"\n",
        "!git remote add origin https://<mmegdiche>:<Token>@github.com/<HAZAR00>/PredictionConforme.git\n",
        "!git branch -M master\n",
        "!git push origin master"
      ],
      "metadata": {
        "id": "cKpOZ9Up76y0",
        "outputId": "20f05604-e560-4cb8-cb97-0718dcae9413",
        "colab": {
          "base_uri": "https://localhost:8080/"
        }
      },
      "id": "cKpOZ9Up76y0",
      "execution_count": 25,
      "outputs": [
        {
          "output_type": "stream",
          "name": "stdout",
          "text": [
            "On branch master\n",
            "Your branch is up to date with 'origin/main'.\n",
            "\n",
            "nothing to commit, working tree clean\n",
            "/bin/bash: line 1: mmegdiche: No such file or directory\n",
            "fatal: could not read Username for 'https://github.com': No such device or address\n"
          ]
        }
      ]
    },
    {
      "cell_type": "code",
      "source": [],
      "metadata": {
        "id": "KG42DdF2-J_G"
      },
      "id": "KG42DdF2-J_G",
      "execution_count": null,
      "outputs": []
    }
  ],
  "metadata": {
    "kernelspec": {
      "display_name": "Python 3",
      "language": "python",
      "name": "python3"
    },
    "colab": {
      "provenance": []
    }
  },
  "nbformat": 4,
  "nbformat_minor": 5
}