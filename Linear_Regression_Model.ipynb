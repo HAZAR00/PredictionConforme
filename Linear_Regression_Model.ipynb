{
  "cells": [
    {
      "cell_type": "code",
      "execution_count": null,
      "metadata": {
        "id": "7z0JX-dJ5e1D"
      },
      "source": [
        "def f():\n",
        "  print(\"hi\")\n",
        "  return 'Hellololmlo'"
      ],
      "outputs": [],
      "id": "7z0JX-dJ5e1D"
    },
    {
      "cell_type": "code",
      "source": [],
      "metadata": {
        "id": "X1RgDdgL6Il6"
      },
      "id": "X1RgDdgL6Il6",
      "execution_count": null,
      "outputs": []
    }
  ],
  "metadata": {
    "kernelspec": {
      "display_name": "Python 3",
      "language": "python",
      "name": "python3"
    },
    "colab": {
      "provenance": [],
      "toc_visible": true
    }
  },
  "nbformat": 4,
  "nbformat_minor": 5
}