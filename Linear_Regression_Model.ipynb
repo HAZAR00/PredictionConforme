{
  "cells": [
    {
      "cell_type": "code",
      "execution_count": null,
      "metadata": {
        "id": "7z0JX-dJ5e1D"
      },
      "source": [
        "def f():\n",
        "  print(\"hi\")\n",
        "  return 'Hello'"
      ],
      "outputs": [],
      "id": "7z0JX-dJ5e1D"
    }
  ],
  "metadata": {
    "kernelspec": {
      "display_name": "Python 3",
      "language": "python",
      "name": "python3"
    },
    "colab": {
      "provenance": []
    }
  },
  "nbformat": 4,
  "nbformat_minor": 5
}