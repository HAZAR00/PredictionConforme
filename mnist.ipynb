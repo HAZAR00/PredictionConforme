{
 "cells": [
  {
   "cell_type": "markdown",
   "metadata": {},
   "source": [
    "# Classification on \n",
    "\n",
    "In this first step, we import all the libraries we’ll need throughout the project. We use NumPy for numerical operations, Matplotlib for plotting, and Keras (from TensorFlow) to build and train our neural network.\n"
   ]
  },
  {
   "cell_type": "code",
   "execution_count": 12,
   "metadata": {},
   "outputs": [],
   "source": [
    "\n",
    "#Importing needed libraries\n",
    "\n",
    "import numpy as np\n",
    "import matplotlib.pyplot as plt\n",
    "import random\n",
    "import setuptools.dist\n",
    "from tensorflow.keras.datasets import mnist\n",
    "from tensorflow.keras import layers, models\n",
    "from tensorflow.keras.utils import plot_model\n",
    "from keras.models import load_model\n",
    "random.seed(123)\n"
   ]
  },
  {
   "cell_type": "markdown",
   "metadata": {},
   "source": [
    "# Prepping Data\n",
    "\n",
    "Here, we load the MNIST dataset and preprocess it. We normalize the image pixel values to be between 0 and 1, flatten the 28x28 images into 784-dimensional vectors, and split off 10,000 examples from the training set to use later for calibration.\n"
   ]
  },
  {
   "cell_type": "code",
   "execution_count": 13,
   "metadata": {},
   "outputs": [],
   "source": [
    "#dire que cest des images manuscrites de numemros de taille 28*28  pixels\n",
    "#Loading\n",
    "(train_images, train_labels), (test_images, test_labels) = mnist.load_data()\n",
    "\n",
    "\n",
    "#normalizing mnist data\n",
    "train_images = train_images.reshape((60000, 28*28)) / 255\n",
    "test_images = test_images.reshape((10000, 28*28)) / 255\n",
    "\n",
    "# Splitting off calibration data from training data\n",
    "calibration_size = 10000  # Number of samples for calibration\n",
    "calibration_images = train_images[:calibration_size]\n",
    "calibration_labels = train_labels[:calibration_size]\n",
    "\n",
    "# Updating training data to exclude calibration samples\n",
    "train_images = train_images[calibration_size:]\n",
    "train_labels = train_labels[calibration_size:]\n",
    "\n",
    "#print(len(train_images))\n",
    "#print(len(test_images))\n",
    "\n"
   ]
  },
  {
   "cell_type": "markdown",
   "metadata": {},
   "source": [
    "# Neural network intialization\n",
    "\n",
    "In this part, we define our neural network architecture using Keras' Sequential API. The model has two hidden layers with ReLU activations and an output layer with 10 neurons using softmax for multi-class classification. We also print the model summary to check its structure.\n"
   ]
  },
  {
   "cell_type": "code",
   "execution_count": 14,
   "metadata": {},
   "outputs": [
    {
     "name": "stderr",
     "output_type": "stream",
     "text": [
      "2025-05-28 11:04:16.450667: E external/local_xla/xla/stream_executor/cuda/cuda_driver.cc:152] failed call to cuInit: INTERNAL: CUDA error: Failed call to cuInit: UNKNOWN ERROR (303)\n"
     ]
    },
    {
     "data": {
      "text/html": [
       "<pre style=\"white-space:pre;overflow-x:auto;line-height:normal;font-family:Menlo,'DejaVu Sans Mono',consolas,'Courier New',monospace\"><span style=\"font-weight: bold\">Model: \"sequential\"</span>\n",
       "</pre>\n"
      ],
      "text/plain": [
       "\u001b[1mModel: \"sequential\"\u001b[0m\n"
      ]
     },
     "metadata": {},
     "output_type": "display_data"
    },
    {
     "data": {
      "text/html": [
       "<pre style=\"white-space:pre;overflow-x:auto;line-height:normal;font-family:Menlo,'DejaVu Sans Mono',consolas,'Courier New',monospace\">┏━━━━━━━━━━━━━━━━━━━━━━━━━━━━━━━━━┳━━━━━━━━━━━━━━━━━━━━━━━━┳━━━━━━━━━━━━━━━┓\n",
       "┃<span style=\"font-weight: bold\"> Layer (type)                    </span>┃<span style=\"font-weight: bold\"> Output Shape           </span>┃<span style=\"font-weight: bold\">       Param # </span>┃\n",
       "┡━━━━━━━━━━━━━━━━━━━━━━━━━━━━━━━━━╇━━━━━━━━━━━━━━━━━━━━━━━━╇━━━━━━━━━━━━━━━┩\n",
       "│ dense (<span style=\"color: #0087ff; text-decoration-color: #0087ff\">Dense</span>)                   │ (<span style=\"color: #00d7ff; text-decoration-color: #00d7ff\">None</span>, <span style=\"color: #00af00; text-decoration-color: #00af00\">128</span>)            │       <span style=\"color: #00af00; text-decoration-color: #00af00\">100,480</span> │\n",
       "├─────────────────────────────────┼────────────────────────┼───────────────┤\n",
       "│ dense_1 (<span style=\"color: #0087ff; text-decoration-color: #0087ff\">Dense</span>)                 │ (<span style=\"color: #00d7ff; text-decoration-color: #00d7ff\">None</span>, <span style=\"color: #00af00; text-decoration-color: #00af00\">64</span>)             │         <span style=\"color: #00af00; text-decoration-color: #00af00\">8,256</span> │\n",
       "├─────────────────────────────────┼────────────────────────┼───────────────┤\n",
       "│ dense_2 (<span style=\"color: #0087ff; text-decoration-color: #0087ff\">Dense</span>)                 │ (<span style=\"color: #00d7ff; text-decoration-color: #00d7ff\">None</span>, <span style=\"color: #00af00; text-decoration-color: #00af00\">10</span>)             │           <span style=\"color: #00af00; text-decoration-color: #00af00\">650</span> │\n",
       "└─────────────────────────────────┴────────────────────────┴───────────────┘\n",
       "</pre>\n"
      ],
      "text/plain": [
       "┏━━━━━━━━━━━━━━━━━━━━━━━━━━━━━━━━━┳━━━━━━━━━━━━━━━━━━━━━━━━┳━━━━━━━━━━━━━━━┓\n",
       "┃\u001b[1m \u001b[0m\u001b[1mLayer (type)                   \u001b[0m\u001b[1m \u001b[0m┃\u001b[1m \u001b[0m\u001b[1mOutput Shape          \u001b[0m\u001b[1m \u001b[0m┃\u001b[1m \u001b[0m\u001b[1m      Param #\u001b[0m\u001b[1m \u001b[0m┃\n",
       "┡━━━━━━━━━━━━━━━━━━━━━━━━━━━━━━━━━╇━━━━━━━━━━━━━━━━━━━━━━━━╇━━━━━━━━━━━━━━━┩\n",
       "│ dense (\u001b[38;5;33mDense\u001b[0m)                   │ (\u001b[38;5;45mNone\u001b[0m, \u001b[38;5;34m128\u001b[0m)            │       \u001b[38;5;34m100,480\u001b[0m │\n",
       "├─────────────────────────────────┼────────────────────────┼───────────────┤\n",
       "│ dense_1 (\u001b[38;5;33mDense\u001b[0m)                 │ (\u001b[38;5;45mNone\u001b[0m, \u001b[38;5;34m64\u001b[0m)             │         \u001b[38;5;34m8,256\u001b[0m │\n",
       "├─────────────────────────────────┼────────────────────────┼───────────────┤\n",
       "│ dense_2 (\u001b[38;5;33mDense\u001b[0m)                 │ (\u001b[38;5;45mNone\u001b[0m, \u001b[38;5;34m10\u001b[0m)             │           \u001b[38;5;34m650\u001b[0m │\n",
       "└─────────────────────────────────┴────────────────────────┴───────────────┘\n"
      ]
     },
     "metadata": {},
     "output_type": "display_data"
    },
    {
     "data": {
      "text/html": [
       "<pre style=\"white-space:pre;overflow-x:auto;line-height:normal;font-family:Menlo,'DejaVu Sans Mono',consolas,'Courier New',monospace\"><span style=\"font-weight: bold\"> Total params: </span><span style=\"color: #00af00; text-decoration-color: #00af00\">109,386</span> (427.29 KB)\n",
       "</pre>\n"
      ],
      "text/plain": [
       "\u001b[1m Total params: \u001b[0m\u001b[38;5;34m109,386\u001b[0m (427.29 KB)\n"
      ]
     },
     "metadata": {},
     "output_type": "display_data"
    },
    {
     "data": {
      "text/html": [
       "<pre style=\"white-space:pre;overflow-x:auto;line-height:normal;font-family:Menlo,'DejaVu Sans Mono',consolas,'Courier New',monospace\"><span style=\"font-weight: bold\"> Trainable params: </span><span style=\"color: #00af00; text-decoration-color: #00af00\">109,386</span> (427.29 KB)\n",
       "</pre>\n"
      ],
      "text/plain": [
       "\u001b[1m Trainable params: \u001b[0m\u001b[38;5;34m109,386\u001b[0m (427.29 KB)\n"
      ]
     },
     "metadata": {},
     "output_type": "display_data"
    },
    {
     "data": {
      "text/html": [
       "<pre style=\"white-space:pre;overflow-x:auto;line-height:normal;font-family:Menlo,'DejaVu Sans Mono',consolas,'Courier New',monospace\"><span style=\"font-weight: bold\"> Non-trainable params: </span><span style=\"color: #00af00; text-decoration-color: #00af00\">0</span> (0.00 B)\n",
       "</pre>\n"
      ],
      "text/plain": [
       "\u001b[1m Non-trainable params: \u001b[0m\u001b[38;5;34m0\u001b[0m (0.00 B)\n"
      ]
     },
     "metadata": {},
     "output_type": "display_data"
    }
   ],
   "source": [
    "\n",
    "model = models.Sequential()\n",
    "\n",
    "# Input layer\n",
    "model.add(layers.Input(shape=(784,)))\n",
    "\n",
    "# first hidden layer of 128 neurons (one for each class) with activation function softmax\n",
    "model.add(layers.Dense(128, activation='relu'))\n",
    "\n",
    "# second hidden layer of 64 neurons (one for each class) with activation function softmax\n",
    "model.add(layers.Dense(64, activation='relu'))\n",
    "\n",
    "# output layer of 10 neurons (one for each class) with activation function softmax\n",
    "model.add(layers.Dense(10, activation='softmax'))\n",
    "\n",
    "\n",
    "#model description\n",
    "model.summary()"
   ]
  },
  {
   "cell_type": "markdown",
   "metadata": {},
   "source": [
    "# Model training"
   ]
  },
  {
   "cell_type": "markdown",
   "metadata": {},
   "source": [
    "We compile the model using the Adam optimizer and sparse categorical crossentropy as the loss function. Then, we train it on the processed training data for 10 epochs with a batch size of 64. After training, we save the model for future use."
   ]
  },
  {
   "cell_type": "code",
   "execution_count": 15,
   "metadata": {},
   "outputs": [
    {
     "name": "stdout",
     "output_type": "stream",
     "text": [
      "Epoch 1/10\n",
      "\u001b[1m782/782\u001b[0m \u001b[32m━━━━━━━━━━━━━━━━━━━━\u001b[0m\u001b[37m\u001b[0m \u001b[1m2s\u001b[0m 1ms/step - accuracy: 0.8450 - loss: 0.5407 - val_accuracy: 0.9547 - val_loss: 0.1499\n",
      "Epoch 2/10\n",
      "\u001b[1m782/782\u001b[0m \u001b[32m━━━━━━━━━━━━━━━━━━━━\u001b[0m\u001b[37m\u001b[0m \u001b[1m1s\u001b[0m 1ms/step - accuracy: 0.9616 - loss: 0.1319 - val_accuracy: 0.9673 - val_loss: 0.1056\n",
      "Epoch 3/10\n",
      "\u001b[1m782/782\u001b[0m \u001b[32m━━━━━━━━━━━━━━━━━━━━\u001b[0m\u001b[37m\u001b[0m \u001b[1m1s\u001b[0m 1ms/step - accuracy: 0.9724 - loss: 0.0880 - val_accuracy: 0.9700 - val_loss: 0.0932\n",
      "Epoch 4/10\n",
      "\u001b[1m782/782\u001b[0m \u001b[32m━━━━━━━━━━━━━━━━━━━━\u001b[0m\u001b[37m\u001b[0m \u001b[1m1s\u001b[0m 1ms/step - accuracy: 0.9812 - loss: 0.0614 - val_accuracy: 0.9737 - val_loss: 0.0829\n",
      "Epoch 5/10\n",
      "\u001b[1m782/782\u001b[0m \u001b[32m━━━━━━━━━━━━━━━━━━━━\u001b[0m\u001b[37m\u001b[0m \u001b[1m1s\u001b[0m 2ms/step - accuracy: 0.9847 - loss: 0.0483 - val_accuracy: 0.9747 - val_loss: 0.0863\n",
      "Epoch 6/10\n",
      "\u001b[1m782/782\u001b[0m \u001b[32m━━━━━━━━━━━━━━━━━━━━\u001b[0m\u001b[37m\u001b[0m \u001b[1m1s\u001b[0m 1ms/step - accuracy: 0.9881 - loss: 0.0365 - val_accuracy: 0.9757 - val_loss: 0.0864\n",
      "Epoch 7/10\n",
      "\u001b[1m782/782\u001b[0m \u001b[32m━━━━━━━━━━━━━━━━━━━━\u001b[0m\u001b[37m\u001b[0m \u001b[1m1s\u001b[0m 1ms/step - accuracy: 0.9899 - loss: 0.0295 - val_accuracy: 0.9734 - val_loss: 0.0927\n",
      "Epoch 8/10\n",
      "\u001b[1m782/782\u001b[0m \u001b[32m━━━━━━━━━━━━━━━━━━━━\u001b[0m\u001b[37m\u001b[0m \u001b[1m1s\u001b[0m 1ms/step - accuracy: 0.9921 - loss: 0.0246 - val_accuracy: 0.9711 - val_loss: 0.1024\n",
      "Epoch 9/10\n",
      "\u001b[1m782/782\u001b[0m \u001b[32m━━━━━━━━━━━━━━━━━━━━\u001b[0m\u001b[37m\u001b[0m \u001b[1m1s\u001b[0m 1ms/step - accuracy: 0.9940 - loss: 0.0200 - val_accuracy: 0.9754 - val_loss: 0.0909\n",
      "Epoch 10/10\n",
      "\u001b[1m782/782\u001b[0m \u001b[32m━━━━━━━━━━━━━━━━━━━━\u001b[0m\u001b[37m\u001b[0m \u001b[1m1s\u001b[0m 1ms/step - accuracy: 0.9940 - loss: 0.0172 - val_accuracy: 0.9771 - val_loss: 0.0905\n"
     ]
    },
    {
     "name": "stderr",
     "output_type": "stream",
     "text": [
      "WARNING:absl:You are saving your model as an HDF5 file via `model.save()` or `keras.saving.save_model(model)`. This file format is considered legacy. We recommend using instead the native Keras format, e.g. `model.save('my_model.keras')` or `keras.saving.save_model(model, 'my_model.keras')`. \n",
      "WARNING:absl:Compiled the loaded model, but the compiled metrics have yet to be built. `model.compile_metrics` will be empty until you train or evaluate the model.\n"
     ]
    }
   ],
   "source": [
    "#compiling model\n",
    "model.compile(optimizer='adam',\n",
    "              loss='sparse_categorical_crossentropy',\n",
    "              metrics=['accuracy'])\n",
    "\n",
    "#training model\n",
    "batch_size=64\n",
    "model.fit(train_images, train_labels,\n",
    "                    batch_size=batch_size,\n",
    "                    epochs=10,\n",
    "                    verbose=1,\n",
    "                    validation_data=(test_images, test_labels))\n",
    "\n",
    "\n",
    "#saving the model\n",
    "model.save('mnist_classification_model.h5')\n",
    "#loading the model for later use\n",
    "model=load_model('mnist_classification_model.h5')\n"
   ]
  },
  {
   "cell_type": "markdown",
   "metadata": {},
   "source": [
    "# Visualizing images\n",
    "\n",
    "We define a small utility function to display a test image by its index. This helps us verify what the model is predicting by looking at the actual handwritten digit image.\n"
   ]
  },
  {
   "cell_type": "code",
   "execution_count": 16,
   "metadata": {},
   "outputs": [],
   "source": [
    "#show image function\n",
    "def show_image(test_image_index):\n",
    "    corr_image = test_images[test_image_index].reshape(28,28) \n",
    "    plt.imshow(corr_image, cmap='gray')\n",
    "    plt.axis('off')\n",
    "    plt.show()\n",
    "\n"
   ]
  },
  {
   "cell_type": "markdown",
   "metadata": {},
   "source": [
    "In this final step, we define a function that loads the trained model and uses it to make a prediction on a specific test image. We compare the model’s prediction to the true label, and then display the corresponding handwritten digit to visually verify the result.\n"
   ]
  },
  {
   "cell_type": "code",
   "execution_count": 17,
   "metadata": {},
   "outputs": [
    {
     "name": "stderr",
     "output_type": "stream",
     "text": [
      "WARNING:absl:Compiled the loaded model, but the compiled metrics have yet to be built. `model.compile_metrics` will be empty until you train or evaluate the model.\n"
     ]
    },
    {
     "name": "stdout",
     "output_type": "stream",
     "text": [
      "\u001b[1m1/1\u001b[0m \u001b[32m━━━━━━━━━━━━━━━━━━━━\u001b[0m\u001b[37m\u001b[0m \u001b[1m0s\u001b[0m 43ms/step\n",
      "Model prediction: 0\n",
      "Ground truth:0\n",
      "Real Image:\n"
     ]
    },
    {
     "data": {
      "image/png": "[encoded data removed]",
      "text/plain": [
       "<Figure size 640x480 with 1 Axes>"
      ]
     },
     "metadata": {},
     "output_type": "display_data"
    }
   ],
   "source": [
    "#model prediction on specific test image\n",
    "from keras.models import load_model\n",
    "def f_hat(test_image_index):\n",
    "    model= load_model('mnist_classification_model.h5')\n",
    "    model.compile(loss='sparse_categorical_crossentropy',\n",
    "              optimizer='rmsprop',\n",
    "              metrics=['accuracy'])\n",
    "    f = model.predict(np.expand_dims(test_images[test_image_index],axis=0))\n",
    "    print(\"Model prediction: \"+str(np.argmax(f[0])))\n",
    "    print(\"Ground truth:\" + str(test_labels[test_image_index]))\n",
    "    print(\"Real Image:\")\n",
    "    show_image(test_image_index)\n",
    "\n",
    "f_hat(3)"
   ]
  },
  {
   "cell_type": "code",
   "execution_count": 18,
   "metadata": {},
   "outputs": [
    {
     "name": "stderr",
     "output_type": "stream",
     "text": [
      "WARNING:absl:Compiled the loaded model, but the compiled metrics have yet to be built. `model.compile_metrics` will be empty until you train or evaluate the model.\n"
     ]
    },
    {
     "name": "stdout",
     "output_type": "stream",
     "text": [
      "\u001b[1m313/313\u001b[0m \u001b[32m━━━━━━━━━━━━━━━━━━━━\u001b[0m\u001b[37m\u001b[0m \u001b[1m0s\u001b[0m 524us/step\n",
      "\u001b[1m313/313\u001b[0m \u001b[32m━━━━━━━━━━━━━━━━━━━━\u001b[0m\u001b[37m\u001b[0m \u001b[1m0s\u001b[0m 448us/step\n",
      "quantile conforme:  0.9999951\n",
      "Empirical coverage : 1.000\n",
      "Average cardinality of predicted sets : 1.95\n"
     ]
    }
   ],
   "source": [
    "# Prédictions sur calibration et test\n",
    "model = load_model('mnist_classification_model.h5')\n",
    "cal_probs = model.predict(calibration_images)\n",
    "test_probs = model.predict(test_images)\n",
    "\n",
    "# Scores de non-conformité : 1 - proba de la bonne classe\n",
    "cal_scores = 1 - np.array([cal_probs[i, calibration_labels[i]] for i in range(len(calibration_labels))])\n",
    "\n",
    "# Seuil conforme (quantile conservateur)\n",
    "alpha = 0.001\n",
    "n = len(cal_scores)\n",
    "k = int(np.ceil((n + 1) * (1 - alpha)))\n",
    "q_hat = np.sort(cal_scores)[k - 1] if k <= n else np.max(cal_scores)\n",
    "print(\"quantile conforme: \",q_hat)\n",
    "\n",
    "\n",
    "# Créer les ensembles de prédiction\n",
    "prediction_sets = [np.where(probs >= 1 - q_hat)[0] for probs in test_probs]\n",
    "\n",
    "# Évaluer la couverture\n",
    "coverage = np.mean([test_labels[i] in prediction_sets[i] for i in range(len(test_labels))])\n",
    "avg_size = np.mean([len(s) for s in prediction_sets])\n",
    "\n",
    "print(f\"Empirical coverage : {coverage:.3f}\")\n",
    "print(f\"Average cardinality of predicted sets : {avg_size:.2f}\")\n",
    "\n"
   ]
  },
  {
   "cell_type": "code",
   "execution_count": 19,
   "metadata": {},
   "outputs": [
    {
     "data": {
      "text/plain": [
       "<Figure size 640x480 with 0 Axes>"
      ]
     },
     "metadata": {},
     "output_type": "display_data"
    },
    {
     "data": {
      "image/png": "[encoded data removed]",
      "text/plain": [
       "<Figure size 2400x1000 with 5 Axes>"
      ]
     },
     "metadata": {},
     "output_type": "display_data"
    }
   ],
   "source": [
    "def show_conformal_predictions(images, y_true, y_pred, pred_sets, n):\n",
    "    plt.figure(figsize=(24, 2 * n))\n",
    "    for i in range(n):\n",
    "        plt.subplot(1, n, i + 1)\n",
    "        plt.imshow(images[i].reshape(28,28), cmap=\"gray\")\n",
    "        plt.axis(\"off\")\n",
    "        true = y_true[i]\n",
    "        pred = y_pred[i]\n",
    "        pred_set = pred_sets[i]\n",
    "        color = \"green\" if true in pred_set else \"red\"\n",
    "        plt.title(f\"True: {true} | Predicted: {pred} | Conformal set: {pred_set}\", color=color)\n",
    "\n",
    "plt.tight_layout()\n",
    "plt.show()\n",
    "\n",
    "# 7. Show predictions for the first 5 test examples\n",
    "\n",
    "predicted_labels=np.argmax(test_probs,axis=1)\n",
    "show_conformal_predictions(test_images, test_labels, predicted_labels, prediction_sets, n=5)\n"
   ]
  },
  {
   "cell_type": "code",
   "execution_count": 24,
   "metadata": {},
   "outputs": [
    {
     "name": "stdout",
     "output_type": "stream",
     "text": [
      "18\n"
     ]
    },
    {
     "data": {
      "image/png": "[encoded data removed]",
      "text/plain": [
       "<Figure size 400x400 with 1 Axes>"
      ]
     },
     "metadata": {},
     "output_type": "display_data"
    }
   ],
   "source": [
    "\n",
    "def show_misclassified_example(images, y_true, y_pred, pred_sets):\n",
    "    for i in range(len(y_true)):\n",
    "        if y_pred[i] != y_true[i]:\n",
    "            plt.figure(figsize=(4,4))\n",
    "            plt.imshow(images[i].reshape(28,28), cmap=\"gray\")\n",
    "            plt.axis(\"off\")\n",
    "            true = y_true[i]\n",
    "            pred = y_pred[i]\n",
    "            pred_set = pred_sets[i]\n",
    "            print(i)\n",
    "            plt.title(f\"Fausse prédiction\\nVrai: {true} | Prédit: {pred}\\nEnsemble conforme: {pred_set}\", color=\"red\")\n",
    "            plt.show()\n",
    "            return  # Affiche juste le premier exemple faux\n",
    "\n",
    "# Prédictions\n",
    "\n",
    "\n",
    "# Afficher un exemple mal classé\n",
    "show_misclassified_example(test_images, test_labels, predicted_labels, prediction_sets)"
   ]
  },
  {
   "cell_type": "code",
   "execution_count": null,
   "metadata": {},
   "outputs": [
    {
     "data": {
      "image/png": "[encoded data removed]",
      "text/plain": [
       "<Figure size 1000x600 with 1 Axes>"
      ]
     },
     "metadata": {},
     "output_type": "display_data"
    },
    {
     "name": "stdout",
     "output_type": "stream",
     "text": [
      "[0.05018951 0.09384236 0.14428811 0.05108148 0.06746272 0.15501423\n",
      " 0.06979452 0.10425294 0.08944152 0.17463261]\n"
     ]
    }
   ],
   "source": [
    "import matplotlib.pyplot as plt\n",
    "import numpy as np\n",
    "\n",
    "def plot_nonconformity_scores_for_image(probs_i, q_hat):\n",
    "    \"\"\"\n",
    "    probs_i: tableau numpy des probabilités prédites pour l'image i, shape=(num_classes,)\n",
    "    q_hat: seuil quantile conforme\n",
    "    \"\"\"\n",
    "    # Scores de non-conformité pour chaque classe = 1 - proba\n",
    "    nonconformity_scores = 1 - probs_i\n",
    "    \n",
    "    classes = np.arange(len(probs_i))  # classes de 0 à n-1\n",
    "    \n",
    "    plt.figure(figsize=(10,6))\n",
    "    bars = plt.bar(classes, nonconformity_scores, color='skyblue', edgecolor='black')\n",
    "    \n",
    "    # Colorier les barres selon si elles dépassent le seuil q_hat ou pas\n",
    "    for bar, score in zip(bars, nonconformity_scores):\n",
    "        if score > q_hat:\n",
    "            bar.set_color('red')\n",
    "    \n",
    "    # Tracer la ligne horizontale du quantile conforme q_hat\n",
    "    plt.hlines(y=q_hat, xmin=-0.5, xmax=len(probs_i)-0.5, colors='green', linestyles='--', linewidth=2,\n",
    "               label=f'Seuil quantile conforme (q_hat) = {q_hat:.4f}')\n",
    "    \n",
    "    plt.xticks(classes)\n",
    "    plt.xlabel(\"Classes\")\n",
    "    plt.ylabel(\"Scores de non-conformité (1 - prob)\")\n",
    "    plt.title(\"Scores de non-conformité par classe pour l'image i\")\n",
    "    plt.legend()\n",
    "    plt.show()\n",
    "\n",
    "# Exemple d'utilisation pour l'image d'indice i\n",
    "i = 18\n",
    "test_probs_exemple =np.array((0.13294128,  0.09106203 ,0.1185957, 0.14478183, 0.01243244, 0.14223137,  0.1050711,  0.02100648, 0.18650344, 0.04537432))\n",
    "\n",
    "plot_nonconformity_scores_for_image(test_probs_exemple, 0.13)\n",
    "vals = np.random.rand(10)\n",
    "vals /= vals.sum()\n",
    "print(vals)"
   ]
  },
  {
   "cell_type": "code",
   "execution_count": null,
   "metadata": {},
   "outputs": [],
   "source": [
    "[ 0.13294128  0.09106203 0.1185957 0.14478183 0.01243244 0.14223137\n",
    "  0.1050711  0.02100648 0.18650344 0.04537432]"
   ]
  }
 ],
 "metadata": {
  "kernelspec": {
   "display_name": ".venv",
   "language": "python",
   "name": "python3"
  },
  "language_info": {
   "codemirror_mode": {
    "name": "ipython",
    "version": 3
   },
   "file_extension": ".py",
   "mimetype": "text/x-python",
   "name": "python",
   "nbconvert_exporter": "python",
   "pygments_lexer": "ipython3",
   "version": "3.12.4"
  }
 },
 "nbformat": 4,
 "nbformat_minor": 2
}
